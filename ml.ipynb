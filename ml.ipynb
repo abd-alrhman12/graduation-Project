{
 "cells": [
  {
   "cell_type": "code",
   "execution_count": null,
   "id": "3793d292",
   "metadata": {},
   "outputs": [],
   "source": [
    "import pandas as pd\n",
    "import tensorflow as tf\n",
    "from keras.models import Sequential\n",
    "from keras.layers import Dense\n",
    "\n",
    "# Load the CSV data\n",
    "data = pd.read_csv('data.csv',index_col=0)\n",
    "\n",
    "# Split the data into input (X) and output (y) variables\n",
    "# X = data.iloc[:,1:22:2]\n",
    "# y = data.iloc[:, :22:2]\n",
    "\n",
    "X = data.iloc[:,:22:2]\n",
    "y = data.iloc[:, 1:22:2]\n",
    "\n",
    "\n",
    "# Define the neural network model\n",
    "model = Sequential()\n",
    "model.add(Dense(10, input_dim=11, activation='relu'))\n",
    "model.add(Dense(8, activation='relu'))\n",
    "model.add(Dense(6, activation='relu'))\n",
    "model.add(Dense(11, activation='sigmoid'))\n",
    "\n",
    "# Compile the model with binary cross-entropy loss and Adam optimizer\n",
    "model.compile(loss='binary_crossentropy', optimizer='adam', metrics=['accuracy'])\n",
    "\n",
    "# Train the model on the data\n",
    "model.fit(X, y, epochs=10, batch_size=10)\n",
    "\n",
    "# Evaluate the model on the data\n",
    "_, accuracy = model.evaluate(X, y)\n",
    "print('Accuracy: %.2f%%' % (accuracy * 100))\n",
    "model.save(\"model.h5\")"
   ]
  },
  {
   "cell_type": "code",
   "execution_count": null,
   "id": "d45995de",
   "metadata": {},
   "outputs": [],
   "source": []
  }
 ],
 "metadata": {
  "kernelspec": {
   "display_name": "Python 3 (ipykernel)",
   "language": "python",
   "name": "python3"
  },
  "language_info": {
   "codemirror_mode": {
    "name": "ipython",
    "version": 3
   },
   "file_extension": ".py",
   "mimetype": "text/x-python",
   "name": "python",
   "nbconvert_exporter": "python",
   "pygments_lexer": "ipython3",
   "version": "3.10.9"
  }
 },
 "nbformat": 4,
 "nbformat_minor": 5
}
